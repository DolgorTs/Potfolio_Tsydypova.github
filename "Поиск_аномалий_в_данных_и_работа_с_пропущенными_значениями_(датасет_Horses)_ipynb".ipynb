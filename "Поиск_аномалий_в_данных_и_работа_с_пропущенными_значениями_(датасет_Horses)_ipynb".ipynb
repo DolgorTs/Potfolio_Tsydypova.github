{
  "nbformat": 4,
  "nbformat_minor": 0,
  "metadata": {
    "colab": {
      "provenance": [],
      "authorship_tag": "ABX9TyMnCYcyznNazb95oPzghwvf",
      "include_colab_link": true
    },
    "kernelspec": {
      "name": "python3",
      "display_name": "Python 3"
    },
    "language_info": {
      "name": "python"
    }
  },
  "cells": [
    {
      "cell_type": "markdown",
      "metadata": {
        "id": "view-in-github",
        "colab_type": "text"
      },
      "source": [
        "<a href=\"https://colab.research.google.com/github/DolgorTs/resumeandprojects.github/blob/main/%22%D0%9F%D0%BE%D0%B8%D1%81%D0%BA_%D0%B0%D0%BD%D0%BE%D0%BC%D0%B0%D0%BB%D0%B8%D0%B9_%D0%B2_%D0%B4%D0%B0%D0%BD%D0%BD%D1%8B%D1%85_%D0%B8_%D1%80%D0%B0%D0%B1%D0%BE%D1%82%D0%B0_%D1%81_%D0%BF%D1%80%D0%BE%D0%BF%D1%83%D1%89%D0%B5%D0%BD%D0%BD%D1%8B%D0%BC%D0%B8_%D0%B7%D0%BD%D0%B0%D1%87%D0%B5%D0%BD%D0%B8%D1%8F%D0%BC%D0%B8_(%D0%B4%D0%B0%D1%82%D0%B0%D1%81%D0%B5%D1%82_Horses)_ipynb%22.ipynb\" target=\"_parent\"><img src=\"https://colab.research.google.com/assets/colab-badge.svg\" alt=\"Open In Colab\"/></a>"
      ]
    },
    {
      "cell_type": "markdown",
      "source": [
        "В рамках данного исследования в датасете horses, содержащего информацию о больных лошадях, проведено следующее:\n",
        "\n",
        "1. Датасет загружен через файл csv\n",
        "2. Определены типы переменных\n",
        "3. Расчитаны базовые статистики\n",
        "4. Определены и проработаны выбросы\n",
        "5. Определены и проработаны пропущенные значения.\n"
      ],
      "metadata": {
        "id": "4e9pbl2KJ5mX"
      }
    },
    {
      "cell_type": "code",
      "execution_count": null,
      "metadata": {
        "id": "bibiLJAB1WnS"
      },
      "outputs": [],
      "source": [
        "# подгрузим библиотеки\n",
        "import pandas as pd\n",
        "import numpy as np"
      ]
    },
    {
      "cell_type": "code",
      "source": [
        "file_ = open('horse_data.names')\n",
        "print(file_.read())"
      ],
      "metadata": {
        "colab": {
          "base_uri": "https://localhost:8080/"
        },
        "id": "drlayh_-1lh4",
        "outputId": "5b9b5fd9-186c-45ee-aff1-470ebb80cad3"
      },
      "execution_count": null,
      "outputs": [
        {
          "output_type": "stream",
          "name": "stdout",
          "text": [
            "1. TItle: Horse Colic database\n",
            "\n",
            "2. Source Information\n",
            "   -- Creators: Mary McLeish & Matt Cecile\n",
            "\t  \tDepartment of Computer Science\n",
            "\t\tUniversity of Guelph\n",
            "\t\tGuelph, Ontario, Canada N1G 2W1\n",
            "\t\tmdmcleish@water.waterloo.edu\n",
            "   -- Donor:    Will Taylor (taylor@pluto.arc.nasa.gov)\n",
            "   -- Date:     8/6/89\n",
            "\n",
            "3. Past Usage:\n",
            "   -- Unknown\n",
            "\n",
            "4. Relevant Information:\n",
            "\n",
            "   -- 2 data files\n",
            "      -- horse-colic.data: 300 training instances\n",
            "      -- horse-colic.test: 68 test instances\n",
            "   -- Possible class attributes: 24 (whether lesion is surgical)\n",
            "     -- others include: 23, 25, 26, and 27\n",
            "   -- Many Data types: (continuous, discrete, and nominal)\n",
            "\n",
            "5. Number of Instances: 368 (300 for training, 68 for testing)\n",
            "\n",
            "6. Number of attributes: 28\n",
            "\n",
            "7. Attribute Information:\n",
            "\n",
            "  1:  surgery?\n",
            "          1 = Yes, it had surgery\n",
            "          2 = It was treated without surgery\n",
            "\n",
            "  2:  Age\n",
            "          1 = Adult horse\n",
            "          2 = Young (< 6 months)\n",
            "\n",
            "  3:  Hospital Number\n",
            "          - numeric id\n",
            "          - the case number assigned to the horse\n",
            "            (may not be unique if the horse is treated > 1 time)\n",
            "\n",
            "  4:  rectal temperature\n",
            "          - linear\n",
            "          - in degrees celsius.\n",
            "          - An elevated temp may occur due to infection.\n",
            "          - temperature may be reduced when the animal is in late shock\n",
            "          - normal temp is 37.8\n",
            "          - this parameter will usually change as the problem progresses\n",
            "               eg. may start out normal, then become elevated because of\n",
            "                   the lesion, passing back through the normal range as the\n",
            "                   horse goes into shock\n",
            "  5:  pulse\n",
            "          - linear\n",
            "          - the heart rate in beats per minute\n",
            "          - is a reflection of the heart condition: 30 -40 is normal for adults\n",
            "          - rare to have a lower than normal rate although athletic horses\n",
            "            may have a rate of 20-25\n",
            "          - animals with painful lesions or suffering from circulatory shock\n",
            "            may have an elevated heart rate\n",
            "\n",
            "  6:  respiratory rate\n",
            "          - linear\n",
            "          - normal rate is 8 to 10\n",
            "          - usefulness is doubtful due to the great fluctuations\n",
            "\n",
            "  7:  temperature of extremities\n",
            "          - a subjective indication of peripheral circulation\n",
            "          - possible values:\n",
            "               1 = Normal\n",
            "               2 = Warm\n",
            "               3 = Cool\n",
            "               4 = Cold\n",
            "          - cool to cold extremities indicate possible shock\n",
            "          - hot extremities should correlate with an elevated rectal temp.\n",
            "\n",
            "  8:  peripheral pulse\n",
            "          - subjective\n",
            "          - possible values are:\n",
            "               1 = normal\n",
            "               2 = increased\n",
            "               3 = reduced\n",
            "               4 = absent\n",
            "          - normal or increased p.p. are indicative of adequate circulation\n",
            "            while reduced or absent indicate poor perfusion\n",
            "\n",
            "  9:  mucous membranes\n",
            "          - a subjective measurement of colour\n",
            "          - possible values are:\n",
            "               1 = normal pink\n",
            "               2 = bright pink\n",
            "               3 = pale pink\n",
            "               4 = pale cyanotic\n",
            "               5 = bright red / injected\n",
            "               6 = dark cyanotic\n",
            "          - 1 and 2 probably indicate a normal or slightly increased\n",
            "            circulation\n",
            "          - 3 may occur in early shock\n",
            "          - 4 and 6 are indicative of serious circulatory compromise\n",
            "          - 5 is more indicative of a septicemia\n",
            "\n",
            " 10: capillary refill time\n",
            "          - a clinical judgement. The longer the refill, the poorer the\n",
            "            circulation\n",
            "          - possible values\n",
            "               1 = < 3 seconds\n",
            "               2 = >= 3 seconds\n",
            "\n",
            " 11: pain - a subjective judgement of the horse's pain level\n",
            "          - possible values:\n",
            "               1 = alert, no pain\n",
            "               2 = depressed\n",
            "               3 = intermittent mild pain\n",
            "               4 = intermittent severe pain\n",
            "               5 = continuous severe pain\n",
            "          - should NOT be treated as a ordered or discrete variable!\n",
            "          - In general, the more painful, the more likely it is to require\n",
            "            surgery\n",
            "          - prior treatment of pain may mask the pain level to some extent\n",
            "\n",
            " 12: peristalsis\n",
            "          - an indication of the activity in the horse's gut. As the gut\n",
            "            becomes more distended or the horse becomes more toxic, the\n",
            "            activity decreases\n",
            "          - possible values:\n",
            "               1 = hypermotile\n",
            "               2 = normal\n",
            "               3 = hypomotile\n",
            "               4 = absent\n",
            "\n",
            " 13: abdominal distension\n",
            "          - An IMPORTANT parameter.\n",
            "          - possible values\n",
            "               1 = none\n",
            "               2 = slight\n",
            "               3 = moderate\n",
            "               4 = severe\n",
            "          - an animal with abdominal distension is likely to be painful and\n",
            "            have reduced gut motility.\n",
            "          - a horse with severe abdominal distension is likely to require\n",
            "            surgery just tio relieve the pressure\n",
            "\n",
            " 14: nasogastric tube\n",
            "          - this refers to any gas coming out of the tube\n",
            "          - possible values:\n",
            "               1 = none\n",
            "               2 = slight\n",
            "               3 = significant\n",
            "          - a large gas cap in the stomach is likely to give the horse\n",
            "            discomfort\n",
            "\n",
            " 15: nasogastric reflux\n",
            "          - possible values\n",
            "               1 = none\n",
            "               2 = > 1 liter\n",
            "               3 = < 1 liter\n",
            "          - the greater amount of reflux, the more likelihood that there is\n",
            "            some serious obstruction to the fluid passage from the rest of\n",
            "            the intestine\n",
            "\n",
            " 16: nasogastric reflux PH\n",
            "          - linear\n",
            "          - scale is from 0 to 14 with 7 being neutral\n",
            "          - normal values are in the 3 to 4 range\n",
            "\n",
            " 17: rectal examination - feces\n",
            "          - possible values\n",
            "               1 = normal\n",
            "               2 = increased\n",
            "               3 = decreased\n",
            "               4 = absent\n",
            "          - absent feces probably indicates an obstruction\n",
            "\n",
            " 18: abdomen\n",
            "          - possible values\n",
            "               1 = normal\n",
            "               2 = other\n",
            "               3 = firm feces in the large intestine\n",
            "               4 = distended small intestine\n",
            "               5 = distended large intestine\n",
            "          - 3 is probably an obstruction caused by a mechanical impaction\n",
            "            and is normally treated medically\n",
            "          - 4 and 5 indicate a surgical lesion\n",
            "\n",
            " 19: packed cell volume\n",
            "          - linear\n",
            "          - the # of red cells by volume in the blood\n",
            "          - normal range is 30 to 50. The level rises as the circulation\n",
            "            becomes compromised or as the animal becomes dehydrated.\n",
            "\n",
            " 20: total protein\n",
            "          - linear\n",
            "          - normal values lie in the 6-7.5 (gms/dL) range\n",
            "          - the higher the value the greater the dehydration\n",
            "\n",
            " 21: abdominocentesis appearance\n",
            "          - a needle is put in the horse's abdomen and fluid is obtained from\n",
            "            the abdominal cavity\n",
            "          - possible values:\n",
            "               1 = clear\n",
            "               2 = cloudy\n",
            "               3 = serosanguinous\n",
            "          - normal fluid is clear while cloudy or serosanguinous indicates\n",
            "            a compromised gut\n",
            "\n",
            " 22: abdomcentesis total protein\n",
            "          - linear\n",
            "          - the higher the level of protein the more likely it is to have a\n",
            "            compromised gut. Values are in gms/dL\n",
            "\n",
            " 23: outcome\n",
            "          - what eventually happened to the horse?\n",
            "          - possible values:\n",
            "               1 = lived\n",
            "               2 = died\n",
            "               3 = was euthanized\n",
            "\n",
            " 24: surgical lesion?\n",
            "          - retrospectively, was the problem (lesion) surgical?\n",
            "          - all cases are either operated upon or autopsied so that\n",
            "            this value and the lesion type are always known\n",
            "          - possible values:\n",
            "               1 = Yes\n",
            "               2 = No\n",
            "\n",
            " 25, 26, 27: type of lesion\n",
            "          - first number is site of lesion\n",
            "               1 = gastric\n",
            "               2 = sm intestine\n",
            "               3 = lg colon\n",
            "               4 = lg colon and cecum\n",
            "               5 = cecum\n",
            "               6 = transverse colon\n",
            "               7 = retum/descending colon\n",
            "               8 = uterus\n",
            "               9 = bladder\n",
            "               11 = all intestinal sites\n",
            "               00 = none\n",
            "          - second number is type\n",
            "               1 = simple\n",
            "               2 = strangulation\n",
            "               3 = inflammation\n",
            "               4 = other\n",
            "          - third number is subtype\n",
            "               1 = mechanical\n",
            "               2 = paralytic\n",
            "               0 = n/a\n",
            "          - fourth number is specific code\n",
            "               1 = obturation\n",
            "               2 = intrinsic\n",
            "               3 = extrinsic\n",
            "               4 = adynamic\n",
            "               5 = volvulus/torsion\n",
            "               6 = intussuption\n",
            "               7 = thromboembolic\n",
            "               8 = hernia\n",
            "               9 = lipoma/slenic incarceration\n",
            "               10 = displacement\n",
            "               0 = n/a\n",
            " 28: cp_data\n",
            "          - is pathology data present for this case?\n",
            "               1 = Yes\n",
            "               2 = No\n",
            "          - this variable is of no significance since pathology data\n",
            "            is not included or collected for these cases\n",
            "\n",
            "8. Missing values: 30% of the values are missing\n"
          ]
        }
      ]
    },
    {
      "cell_type": "code",
      "source": [
        "# Загрузка данных\n",
        "\n",
        "column_names = ['surgery', 'age', 'rectal temperature', 'pulse', 'respiratory rate', 'temperature of extremities', 'pain', 'outcome']\n",
        "\n",
        "df = pd.read_csv('horse_data.csv', usecols=[0, 1, 3, 4, 5, 6, 10, 22], names = column_names, na_values = '?')\n",
        "\n",
        "df.info()"
      ],
      "metadata": {
        "colab": {
          "base_uri": "https://localhost:8080/"
        },
        "id": "LVf0yf5twBVO",
        "outputId": "0a84af30-d56b-4bdf-a709-d0daba8cf420"
      },
      "execution_count": null,
      "outputs": [
        {
          "output_type": "stream",
          "name": "stdout",
          "text": [
            "<class 'pandas.core.frame.DataFrame'>\n",
            "RangeIndex: 300 entries, 0 to 299\n",
            "Data columns (total 8 columns):\n",
            " #   Column                      Non-Null Count  Dtype  \n",
            "---  ------                      --------------  -----  \n",
            " 0   surgery                     299 non-null    float64\n",
            " 1   age                         300 non-null    int64  \n",
            " 2   rectal temperature          240 non-null    float64\n",
            " 3   pulse                       276 non-null    float64\n",
            " 4   respiratory rate            242 non-null    float64\n",
            " 5   temperature of extremities  244 non-null    float64\n",
            " 6   pain                        245 non-null    float64\n",
            " 7   outcome                     299 non-null    float64\n",
            "dtypes: float64(7), int64(1)\n",
            "memory usage: 18.9 KB\n"
          ]
        }
      ]
    },
    {
      "cell_type": "markdown",
      "source": [
        "**Количественные (непрерывные):**\n",
        "- rectal temperature\n",
        "- pulse\n",
        "- respiratory rate\n",
        "\n",
        "Для них можно применить метод describe(), найти базовые статистики, применить межквартильный размах для поиска выбросов.\n",
        "\n",
        "\n",
        "\n",
        "\n",
        "\n",
        "\n",
        "\n",
        "\n",
        "\n",
        "\n",
        "\n",
        "\n"
      ],
      "metadata": {
        "id": "GLJn2o311EfC"
      }
    },
    {
      "cell_type": "code",
      "source": [
        "df['rectal temperature'].describe()"
      ],
      "metadata": {
        "colab": {
          "base_uri": "https://localhost:8080/"
        },
        "id": "_Rcujmy44Xrj",
        "outputId": "4db51119-92c5-4835-bd65-ffb20baf1d3e"
      },
      "execution_count": null,
      "outputs": [
        {
          "output_type": "execute_result",
          "data": {
            "text/plain": [
              "count    240.000000\n",
              "mean      38.167917\n",
              "std        0.732289\n",
              "min       35.400000\n",
              "25%       37.800000\n",
              "50%       38.200000\n",
              "75%       38.500000\n",
              "max       40.800000\n",
              "Name: rectal temperature, dtype: float64"
            ]
          },
          "metadata": {},
          "execution_count": 106
        }
      ]
    },
    {
      "cell_type": "code",
      "source": [
        "print('mean - среднее ариф.')\n",
        "print(df['rectal temperature'].mean())\n",
        "print('-----------')\n",
        "print('median:')\n",
        "print(df['rectal temperature'].median())\n",
        "print('-----------')\n",
        "print('mode:')\n",
        "print(df['rectal temperature'].mode()[0])\n",
        "print('-----------')\n",
        "print('std - стандарт. отклонение')\n",
        "print(df['rectal temperature'].std())\n",
        "print('-----------')\n",
        "print('var - дисперсия:')  #Чем выше дисперсия, тем выше разброс значений в ряде данных.\n",
        "print(df['rectal temperature'].var())"
      ],
      "metadata": {
        "colab": {
          "base_uri": "https://localhost:8080/"
        },
        "id": "HoPzT48zV6-I",
        "outputId": "224cca4e-19ed-41b1-9478-762d1ff827a8"
      },
      "execution_count": null,
      "outputs": [
        {
          "output_type": "stream",
          "name": "stdout",
          "text": [
            "mean - среднее ариф.\n",
            "38.16791666666667\n",
            "-----------\n",
            "median:\n",
            "38.2\n",
            "-----------\n",
            "mode:\n",
            "38.0\n",
            "-----------\n",
            "std - стандарт. отклонение\n",
            "0.7322886641121578\n",
            "-----------\n",
            "var - дисперсия:\n",
            "0.5362466875871686\n"
          ]
        }
      ]
    },
    {
      "cell_type": "markdown",
      "source": [
        "На основе базовых статистик можно сделать вывод, что в среднем ректальная температура у лошадей, испытывающих кишечные колики, около 38, что незначительно превышает нормальную температуру 37.8. Первый квартиль равен значению нормальной температуры, значит, что 25% лошадей переживают поздний шок, а 75 % лошадей испытывают инфекцию.\n",
        "Также видно, что данные распределены нормально, т.к. разница между средней и медианой небольшая около 0,8. Разброс значений не особо существенный, т.к. величина дисперсии и разница между максимальным и минимальным значениями небольшая.  \n",
        "\n"
      ],
      "metadata": {
        "id": "qaViVhNrcCTj"
      }
    },
    {
      "cell_type": "code",
      "source": [
        "q1_rtemp = df['rectal temperature'].quantile(0.25)\n",
        "q3_rtemp = df['rectal temperature'].quantile(0.75)\n",
        "iqr_rtemp = q3_rtemp - q1_rtemp\n",
        "lower_bound_rtemp = q1_rtemp - (1.5 * iqr_rtemp)\n",
        "upper_bound_rtemp = q3_rtemp + (1.5 * iqr_rtemp)\n",
        "print('первый квартиль - ',q1_rtemp)\n",
        "print('третий квартиль - ',q3_rtemp)\n",
        "print('межквартильный размах - ',iqr_rtemp)\n",
        "print('нижняя граница выбросов -', lower_bound_rtemp)\n",
        "print('верхняя граница выбросов - ',upper_bound_rtemp)\n",
        "\n",
        "# remove_outliers_rtemp = df[df['rectal temperature'].between(lower_bound_rtemp, upper_bound_rtemp, inclusive=True)] #новый датафрейм без выбросов\n",
        "# remove_outliers_rtemp"
      ],
      "metadata": {
        "colab": {
          "base_uri": "https://localhost:8080/"
        },
        "id": "o3HHSDU45vkA",
        "outputId": "db930983-4a25-4857-ce7b-a2b26a14210e"
      },
      "execution_count": null,
      "outputs": [
        {
          "output_type": "stream",
          "name": "stdout",
          "text": [
            "первый квартиль -  37.8\n",
            "третий квартиль -  38.5\n",
            "межквартильный размах -  0.7000000000000028\n",
            "нижняя граница выбросов - 36.74999999999999\n",
            "верхняя граница выбросов -  39.550000000000004\n"
          ]
        }
      ]
    },
    {
      "cell_type": "markdown",
      "source": [
        "Нижняя и верхняя границы выбросов, по-моему мнению, имеют вполне правдоподобные значения. Т.к. мы исследуем температуру больных лошадей, т.е. животных, и она вполне естественно может колебаться в значениях границ выбросов. Поэтому можно обойтись без удаления значений выбросов."
      ],
      "metadata": {
        "id": "anb3Fl4Vjt6Y"
      }
    },
    {
      "cell_type": "code",
      "source": [
        "df['pulse'].describe()"
      ],
      "metadata": {
        "colab": {
          "base_uri": "https://localhost:8080/"
        },
        "id": "HwCCyfaf4Uoa",
        "outputId": "122a3d2c-bbea-447b-d469-c4feee11f5e8"
      },
      "execution_count": null,
      "outputs": [
        {
          "output_type": "execute_result",
          "data": {
            "text/plain": [
              "count    276.000000\n",
              "mean      71.913043\n",
              "std       28.630557\n",
              "min       30.000000\n",
              "25%       48.000000\n",
              "50%       64.000000\n",
              "75%       88.000000\n",
              "max      184.000000\n",
              "Name: pulse, dtype: float64"
            ]
          },
          "metadata": {},
          "execution_count": 109
        }
      ]
    },
    {
      "cell_type": "code",
      "source": [
        "print('mean - среднее ариф.')\n",
        "print(df['pulse'].mean())\n",
        "print('-----------')\n",
        "print('median:')\n",
        "print(df['pulse'].median())\n",
        "print('-----------')\n",
        "print('mode:')\n",
        "print(df['pulse'].mode()[0])\n",
        "print('-----------')\n",
        "print('std - стандарт. отклонение')\n",
        "print(df['pulse'].std())\n",
        "print('-----------')\n",
        "print('var - дисперсия:')  #Чем выше дисперсия, тем выше разброс значений в ряде данных.\n",
        "print(df['pulse'].var())"
      ],
      "metadata": {
        "colab": {
          "base_uri": "https://localhost:8080/"
        },
        "id": "KixhI4ofl5kp",
        "outputId": "a5d19832-f557-4fb3-b925-537e1cf5a62a"
      },
      "execution_count": null,
      "outputs": [
        {
          "output_type": "stream",
          "name": "stdout",
          "text": [
            "mean - среднее ариф.\n",
            "71.91304347826087\n",
            "-----------\n",
            "median:\n",
            "64.0\n",
            "-----------\n",
            "mode:\n",
            "48.0\n",
            "-----------\n",
            "std - стандарт. отклонение\n",
            "28.630556660735\n",
            "-----------\n",
            "var - дисперсия:\n",
            "819.7087747035573\n"
          ]
        }
      ]
    },
    {
      "cell_type": "markdown",
      "source": [
        "Пульс 30-40 ударов в минуту является нормальным показателем для взрослой лошади. В наших данных первый квартиль выше нормального показателя, значит, что меньше 25% лошадей имеют здоровый пульс. При чем у спортивных лошадей пульс должен быть около 20-25, мы получили минимальное значение пульса 30, следует вывод, что спортивных лошадей в нашей выборке нет. Также выходит, что 75% лошадей страдают сердечно-сосудистыми заболеваними и болезнями, т.к. их пульс выше нормы.\n",
        "Данные распределены нормально, но имеется большой разброс значений, во-первых, разница между мин и макс - 154, и во-вторых, дисперсия имеет огромную величину."
      ],
      "metadata": {
        "id": "69GvUKVdmBow"
      }
    },
    {
      "cell_type": "code",
      "source": [
        "q1_pulse = df['pulse'].quantile(0.25)\n",
        "q3_pulse = df['pulse'].quantile(0.75)\n",
        "iqr_pulse = q3_pulse - q1_pulse\n",
        "lower_bound_pulse = q1_pulse - (1.5 * iqr_pulse)\n",
        "upper_bound_pulse = q3_pulse + (1.5 * iqr_pulse)\n",
        "print('первый квартиль - ',q1_pulse)\n",
        "print('третий квартиль - ',q3_pulse)\n",
        "print('межквартильный размах - ',iqr_pulse)\n",
        "print('нижняя граница выбросов -', lower_bound_pulse)\n",
        "print('верхняя граница выбросов - ',upper_bound_pulse)\n",
        "remove_outliers_pulse = df[df['pulse'].between(lower_bound_pulse, upper_bound_pulse, inclusive=True)] #новый датафрейм без выбросов\n",
        "remove_outliers_pulse"
      ],
      "metadata": {
        "colab": {
          "base_uri": "https://localhost:8080/",
          "height": 545
        },
        "id": "bn230Yer6DhC",
        "outputId": "f7428ab7-7110-4534-d18f-42af47683fad"
      },
      "execution_count": null,
      "outputs": [
        {
          "output_type": "stream",
          "name": "stdout",
          "text": [
            "первый квартиль -  48.0\n",
            "третий квартиль -  88.0\n",
            "межквартильный размах -  40.0\n",
            "нижняя граница выбросов - -12.0\n",
            "верхняя граница выбросов -  148.0\n"
          ]
        },
        {
          "output_type": "stream",
          "name": "stderr",
          "text": [
            "<ipython-input-111-1e1bde374ab2>:11: FutureWarning: Boolean inputs to the `inclusive` argument are deprecated in favour of `both` or `neither`.\n",
            "  remove_outliers_pulse = df[df['pulse'].between(lower_bound_pulse, upper_bound_pulse, inclusive=True)] #новый датафрейм без выбросов\n"
          ]
        },
        {
          "output_type": "execute_result",
          "data": {
            "text/plain": [
              "     surgery  age  rectal temperature  pulse  respiratory rate  \\\n",
              "0        2.0    1                38.5   66.0              28.0   \n",
              "1        1.0    1                39.2   88.0              20.0   \n",
              "2        2.0    1                38.3   40.0              24.0   \n",
              "4        2.0    1                37.3  104.0              35.0   \n",
              "6        1.0    1                37.9   48.0              16.0   \n",
              "..       ...  ...                 ...    ...               ...   \n",
              "295      1.0    1                 NaN  120.0              70.0   \n",
              "296      2.0    1                37.2   72.0              24.0   \n",
              "297      1.0    1                37.5   72.0              30.0   \n",
              "298      1.0    1                36.5  100.0              24.0   \n",
              "299      1.0    1                37.2   40.0              20.0   \n",
              "\n",
              "     temperature of extremities  pain  outcome  \n",
              "0                           3.0   5.0      2.0  \n",
              "1                           NaN   3.0      3.0  \n",
              "2                           1.0   3.0      1.0  \n",
              "4                           NaN   NaN      2.0  \n",
              "6                           1.0   3.0      1.0  \n",
              "..                          ...   ...      ...  \n",
              "295                         4.0   2.0      3.0  \n",
              "296                         3.0   4.0      3.0  \n",
              "297                         4.0   4.0      2.0  \n",
              "298                         3.0   3.0      1.0  \n",
              "299                         NaN   NaN      3.0  \n",
              "\n",
              "[271 rows x 8 columns]"
            ],
            "text/html": [
              "\n",
              "  <div id=\"df-5dc2e902-14cd-4f24-9cd7-aee0b0980477\" class=\"colab-df-container\">\n",
              "    <div>\n",
              "<style scoped>\n",
              "    .dataframe tbody tr th:only-of-type {\n",
              "        vertical-align: middle;\n",
              "    }\n",
              "\n",
              "    .dataframe tbody tr th {\n",
              "        vertical-align: top;\n",
              "    }\n",
              "\n",
              "    .dataframe thead th {\n",
              "        text-align: right;\n",
              "    }\n",
              "</style>\n",
              "<table border=\"1\" class=\"dataframe\">\n",
              "  <thead>\n",
              "    <tr style=\"text-align: right;\">\n",
              "      <th></th>\n",
              "      <th>surgery</th>\n",
              "      <th>age</th>\n",
              "      <th>rectal temperature</th>\n",
              "      <th>pulse</th>\n",
              "      <th>respiratory rate</th>\n",
              "      <th>temperature of extremities</th>\n",
              "      <th>pain</th>\n",
              "      <th>outcome</th>\n",
              "    </tr>\n",
              "  </thead>\n",
              "  <tbody>\n",
              "    <tr>\n",
              "      <th>0</th>\n",
              "      <td>2.0</td>\n",
              "      <td>1</td>\n",
              "      <td>38.5</td>\n",
              "      <td>66.0</td>\n",
              "      <td>28.0</td>\n",
              "      <td>3.0</td>\n",
              "      <td>5.0</td>\n",
              "      <td>2.0</td>\n",
              "    </tr>\n",
              "    <tr>\n",
              "      <th>1</th>\n",
              "      <td>1.0</td>\n",
              "      <td>1</td>\n",
              "      <td>39.2</td>\n",
              "      <td>88.0</td>\n",
              "      <td>20.0</td>\n",
              "      <td>NaN</td>\n",
              "      <td>3.0</td>\n",
              "      <td>3.0</td>\n",
              "    </tr>\n",
              "    <tr>\n",
              "      <th>2</th>\n",
              "      <td>2.0</td>\n",
              "      <td>1</td>\n",
              "      <td>38.3</td>\n",
              "      <td>40.0</td>\n",
              "      <td>24.0</td>\n",
              "      <td>1.0</td>\n",
              "      <td>3.0</td>\n",
              "      <td>1.0</td>\n",
              "    </tr>\n",
              "    <tr>\n",
              "      <th>4</th>\n",
              "      <td>2.0</td>\n",
              "      <td>1</td>\n",
              "      <td>37.3</td>\n",
              "      <td>104.0</td>\n",
              "      <td>35.0</td>\n",
              "      <td>NaN</td>\n",
              "      <td>NaN</td>\n",
              "      <td>2.0</td>\n",
              "    </tr>\n",
              "    <tr>\n",
              "      <th>6</th>\n",
              "      <td>1.0</td>\n",
              "      <td>1</td>\n",
              "      <td>37.9</td>\n",
              "      <td>48.0</td>\n",
              "      <td>16.0</td>\n",
              "      <td>1.0</td>\n",
              "      <td>3.0</td>\n",
              "      <td>1.0</td>\n",
              "    </tr>\n",
              "    <tr>\n",
              "      <th>...</th>\n",
              "      <td>...</td>\n",
              "      <td>...</td>\n",
              "      <td>...</td>\n",
              "      <td>...</td>\n",
              "      <td>...</td>\n",
              "      <td>...</td>\n",
              "      <td>...</td>\n",
              "      <td>...</td>\n",
              "    </tr>\n",
              "    <tr>\n",
              "      <th>295</th>\n",
              "      <td>1.0</td>\n",
              "      <td>1</td>\n",
              "      <td>NaN</td>\n",
              "      <td>120.0</td>\n",
              "      <td>70.0</td>\n",
              "      <td>4.0</td>\n",
              "      <td>2.0</td>\n",
              "      <td>3.0</td>\n",
              "    </tr>\n",
              "    <tr>\n",
              "      <th>296</th>\n",
              "      <td>2.0</td>\n",
              "      <td>1</td>\n",
              "      <td>37.2</td>\n",
              "      <td>72.0</td>\n",
              "      <td>24.0</td>\n",
              "      <td>3.0</td>\n",
              "      <td>4.0</td>\n",
              "      <td>3.0</td>\n",
              "    </tr>\n",
              "    <tr>\n",
              "      <th>297</th>\n",
              "      <td>1.0</td>\n",
              "      <td>1</td>\n",
              "      <td>37.5</td>\n",
              "      <td>72.0</td>\n",
              "      <td>30.0</td>\n",
              "      <td>4.0</td>\n",
              "      <td>4.0</td>\n",
              "      <td>2.0</td>\n",
              "    </tr>\n",
              "    <tr>\n",
              "      <th>298</th>\n",
              "      <td>1.0</td>\n",
              "      <td>1</td>\n",
              "      <td>36.5</td>\n",
              "      <td>100.0</td>\n",
              "      <td>24.0</td>\n",
              "      <td>3.0</td>\n",
              "      <td>3.0</td>\n",
              "      <td>1.0</td>\n",
              "    </tr>\n",
              "    <tr>\n",
              "      <th>299</th>\n",
              "      <td>1.0</td>\n",
              "      <td>1</td>\n",
              "      <td>37.2</td>\n",
              "      <td>40.0</td>\n",
              "      <td>20.0</td>\n",
              "      <td>NaN</td>\n",
              "      <td>NaN</td>\n",
              "      <td>3.0</td>\n",
              "    </tr>\n",
              "  </tbody>\n",
              "</table>\n",
              "<p>271 rows × 8 columns</p>\n",
              "</div>\n",
              "    <div class=\"colab-df-buttons\">\n",
              "\n",
              "  <div class=\"colab-df-container\">\n",
              "    <button class=\"colab-df-convert\" onclick=\"convertToInteractive('df-5dc2e902-14cd-4f24-9cd7-aee0b0980477')\"\n",
              "            title=\"Convert this dataframe to an interactive table.\"\n",
              "            style=\"display:none;\">\n",
              "\n",
              "  <svg xmlns=\"http://www.w3.org/2000/svg\" height=\"24px\" viewBox=\"0 -960 960 960\">\n",
              "    <path d=\"M120-120v-720h720v720H120Zm60-500h600v-160H180v160Zm220 220h160v-160H400v160Zm0 220h160v-160H400v160ZM180-400h160v-160H180v160Zm440 0h160v-160H620v160ZM180-180h160v-160H180v160Zm440 0h160v-160H620v160Z\"/>\n",
              "  </svg>\n",
              "    </button>\n",
              "\n",
              "  <style>\n",
              "    .colab-df-container {\n",
              "      display:flex;\n",
              "      gap: 12px;\n",
              "    }\n",
              "\n",
              "    .colab-df-convert {\n",
              "      background-color: #E8F0FE;\n",
              "      border: none;\n",
              "      border-radius: 50%;\n",
              "      cursor: pointer;\n",
              "      display: none;\n",
              "      fill: #1967D2;\n",
              "      height: 32px;\n",
              "      padding: 0 0 0 0;\n",
              "      width: 32px;\n",
              "    }\n",
              "\n",
              "    .colab-df-convert:hover {\n",
              "      background-color: #E2EBFA;\n",
              "      box-shadow: 0px 1px 2px rgba(60, 64, 67, 0.3), 0px 1px 3px 1px rgba(60, 64, 67, 0.15);\n",
              "      fill: #174EA6;\n",
              "    }\n",
              "\n",
              "    .colab-df-buttons div {\n",
              "      margin-bottom: 4px;\n",
              "    }\n",
              "\n",
              "    [theme=dark] .colab-df-convert {\n",
              "      background-color: #3B4455;\n",
              "      fill: #D2E3FC;\n",
              "    }\n",
              "\n",
              "    [theme=dark] .colab-df-convert:hover {\n",
              "      background-color: #434B5C;\n",
              "      box-shadow: 0px 1px 3px 1px rgba(0, 0, 0, 0.15);\n",
              "      filter: drop-shadow(0px 1px 2px rgba(0, 0, 0, 0.3));\n",
              "      fill: #FFFFFF;\n",
              "    }\n",
              "  </style>\n",
              "\n",
              "    <script>\n",
              "      const buttonEl =\n",
              "        document.querySelector('#df-5dc2e902-14cd-4f24-9cd7-aee0b0980477 button.colab-df-convert');\n",
              "      buttonEl.style.display =\n",
              "        google.colab.kernel.accessAllowed ? 'block' : 'none';\n",
              "\n",
              "      async function convertToInteractive(key) {\n",
              "        const element = document.querySelector('#df-5dc2e902-14cd-4f24-9cd7-aee0b0980477');\n",
              "        const dataTable =\n",
              "          await google.colab.kernel.invokeFunction('convertToInteractive',\n",
              "                                                    [key], {});\n",
              "        if (!dataTable) return;\n",
              "\n",
              "        const docLinkHtml = 'Like what you see? Visit the ' +\n",
              "          '<a target=\"_blank\" href=https://colab.research.google.com/notebooks/data_table.ipynb>data table notebook</a>'\n",
              "          + ' to learn more about interactive tables.';\n",
              "        element.innerHTML = '';\n",
              "        dataTable['output_type'] = 'display_data';\n",
              "        await google.colab.output.renderOutput(dataTable, element);\n",
              "        const docLink = document.createElement('div');\n",
              "        docLink.innerHTML = docLinkHtml;\n",
              "        element.appendChild(docLink);\n",
              "      }\n",
              "    </script>\n",
              "  </div>\n",
              "\n",
              "\n",
              "<div id=\"df-5053e527-9173-4af1-a95c-38123f6c5420\">\n",
              "  <button class=\"colab-df-quickchart\" onclick=\"quickchart('df-5053e527-9173-4af1-a95c-38123f6c5420')\"\n",
              "            title=\"Suggest charts\"\n",
              "            style=\"display:none;\">\n",
              "\n",
              "<svg xmlns=\"http://www.w3.org/2000/svg\" height=\"24px\"viewBox=\"0 0 24 24\"\n",
              "     width=\"24px\">\n",
              "    <g>\n",
              "        <path d=\"M19 3H5c-1.1 0-2 .9-2 2v14c0 1.1.9 2 2 2h14c1.1 0 2-.9 2-2V5c0-1.1-.9-2-2-2zM9 17H7v-7h2v7zm4 0h-2V7h2v10zm4 0h-2v-4h2v4z\"/>\n",
              "    </g>\n",
              "</svg>\n",
              "  </button>\n",
              "\n",
              "<style>\n",
              "  .colab-df-quickchart {\n",
              "      --bg-color: #E8F0FE;\n",
              "      --fill-color: #1967D2;\n",
              "      --hover-bg-color: #E2EBFA;\n",
              "      --hover-fill-color: #174EA6;\n",
              "      --disabled-fill-color: #AAA;\n",
              "      --disabled-bg-color: #DDD;\n",
              "  }\n",
              "\n",
              "  [theme=dark] .colab-df-quickchart {\n",
              "      --bg-color: #3B4455;\n",
              "      --fill-color: #D2E3FC;\n",
              "      --hover-bg-color: #434B5C;\n",
              "      --hover-fill-color: #FFFFFF;\n",
              "      --disabled-bg-color: #3B4455;\n",
              "      --disabled-fill-color: #666;\n",
              "  }\n",
              "\n",
              "  .colab-df-quickchart {\n",
              "    background-color: var(--bg-color);\n",
              "    border: none;\n",
              "    border-radius: 50%;\n",
              "    cursor: pointer;\n",
              "    display: none;\n",
              "    fill: var(--fill-color);\n",
              "    height: 32px;\n",
              "    padding: 0;\n",
              "    width: 32px;\n",
              "  }\n",
              "\n",
              "  .colab-df-quickchart:hover {\n",
              "    background-color: var(--hover-bg-color);\n",
              "    box-shadow: 0 1px 2px rgba(60, 64, 67, 0.3), 0 1px 3px 1px rgba(60, 64, 67, 0.15);\n",
              "    fill: var(--button-hover-fill-color);\n",
              "  }\n",
              "\n",
              "  .colab-df-quickchart-complete:disabled,\n",
              "  .colab-df-quickchart-complete:disabled:hover {\n",
              "    background-color: var(--disabled-bg-color);\n",
              "    fill: var(--disabled-fill-color);\n",
              "    box-shadow: none;\n",
              "  }\n",
              "\n",
              "  .colab-df-spinner {\n",
              "    border: 2px solid var(--fill-color);\n",
              "    border-color: transparent;\n",
              "    border-bottom-color: var(--fill-color);\n",
              "    animation:\n",
              "      spin 1s steps(1) infinite;\n",
              "  }\n",
              "\n",
              "  @keyframes spin {\n",
              "    0% {\n",
              "      border-color: transparent;\n",
              "      border-bottom-color: var(--fill-color);\n",
              "      border-left-color: var(--fill-color);\n",
              "    }\n",
              "    20% {\n",
              "      border-color: transparent;\n",
              "      border-left-color: var(--fill-color);\n",
              "      border-top-color: var(--fill-color);\n",
              "    }\n",
              "    30% {\n",
              "      border-color: transparent;\n",
              "      border-left-color: var(--fill-color);\n",
              "      border-top-color: var(--fill-color);\n",
              "      border-right-color: var(--fill-color);\n",
              "    }\n",
              "    40% {\n",
              "      border-color: transparent;\n",
              "      border-right-color: var(--fill-color);\n",
              "      border-top-color: var(--fill-color);\n",
              "    }\n",
              "    60% {\n",
              "      border-color: transparent;\n",
              "      border-right-color: var(--fill-color);\n",
              "    }\n",
              "    80% {\n",
              "      border-color: transparent;\n",
              "      border-right-color: var(--fill-color);\n",
              "      border-bottom-color: var(--fill-color);\n",
              "    }\n",
              "    90% {\n",
              "      border-color: transparent;\n",
              "      border-bottom-color: var(--fill-color);\n",
              "    }\n",
              "  }\n",
              "</style>\n",
              "\n",
              "  <script>\n",
              "    async function quickchart(key) {\n",
              "      const quickchartButtonEl =\n",
              "        document.querySelector('#' + key + ' button');\n",
              "      quickchartButtonEl.disabled = true;  // To prevent multiple clicks.\n",
              "      quickchartButtonEl.classList.add('colab-df-spinner');\n",
              "      try {\n",
              "        const charts = await google.colab.kernel.invokeFunction(\n",
              "            'suggestCharts', [key], {});\n",
              "      } catch (error) {\n",
              "        console.error('Error during call to suggestCharts:', error);\n",
              "      }\n",
              "      quickchartButtonEl.classList.remove('colab-df-spinner');\n",
              "      quickchartButtonEl.classList.add('colab-df-quickchart-complete');\n",
              "    }\n",
              "    (() => {\n",
              "      let quickchartButtonEl =\n",
              "        document.querySelector('#df-5053e527-9173-4af1-a95c-38123f6c5420 button');\n",
              "      quickchartButtonEl.style.display =\n",
              "        google.colab.kernel.accessAllowed ? 'block' : 'none';\n",
              "    })();\n",
              "  </script>\n",
              "</div>\n",
              "    </div>\n",
              "  </div>\n"
            ]
          },
          "metadata": {},
          "execution_count": 111
        }
      ]
    },
    {
      "cell_type": "markdown",
      "source": [
        "В данном случае, можно удалить выбросы. Нижняя граница выбросов имеет отрицательное значение из-за высокого разброса данных, хотя минимальный пульс равен 30. При чем вырхняя граница выбросов - 148 значительно превышает норму, несмотря на болезненость исследуемых лошадей. Возможно, данные введены неверно."
      ],
      "metadata": {
        "id": "dJxSCDKMon7Q"
      }
    },
    {
      "cell_type": "code",
      "source": [
        "df['respiratory rate'].describe()"
      ],
      "metadata": {
        "colab": {
          "base_uri": "https://localhost:8080/"
        },
        "id": "fDze1GDS4Kcg",
        "outputId": "f9e11e66-06ff-497a-ccb8-0c8a4a480e61"
      },
      "execution_count": null,
      "outputs": [
        {
          "output_type": "execute_result",
          "data": {
            "text/plain": [
              "count    242.000000\n",
              "mean      30.417355\n",
              "std       17.642231\n",
              "min        8.000000\n",
              "25%       18.500000\n",
              "50%       24.500000\n",
              "75%       36.000000\n",
              "max       96.000000\n",
              "Name: respiratory rate, dtype: float64"
            ]
          },
          "metadata": {},
          "execution_count": 112
        }
      ]
    },
    {
      "cell_type": "code",
      "source": [
        "print('mean - среднее ариф.')\n",
        "print(df['respiratory rate'].mean())\n",
        "print('-----------')\n",
        "print('median:')\n",
        "print(df['respiratory rate'].median())\n",
        "print('-----------')\n",
        "print('mode:')\n",
        "print(df['respiratory rate'].mode()[0])\n",
        "print('-----------')\n",
        "print('std - стандарт. отклонение')\n",
        "print(df['respiratory rate'].std())\n",
        "print('-----------')\n",
        "print('var - дисперсия:')  #Чем выше дисперсия, тем выше разброс значений в ряде данных.\n",
        "print(df['respiratory rate'].var())"
      ],
      "metadata": {
        "colab": {
          "base_uri": "https://localhost:8080/"
        },
        "id": "INpsnjDlrZV8",
        "outputId": "958e9ebe-16bb-4018-914e-0cf0d3ef0682"
      },
      "execution_count": null,
      "outputs": [
        {
          "output_type": "stream",
          "name": "stdout",
          "text": [
            "mean - среднее ариф.\n",
            "30.417355371900825\n",
            "-----------\n",
            "median:\n",
            "24.5\n",
            "-----------\n",
            "mode:\n",
            "20.0\n",
            "-----------\n",
            "std - стандарт. отклонение\n",
            "17.64223138513467\n",
            "-----------\n",
            "var - дисперсия:\n",
            "311.2483282466308\n"
          ]
        }
      ]
    },
    {
      "cell_type": "markdown",
      "source": [
        "Нормальная частота дыхания 8 - 10. Средние значения существенно превышают нормальные значения, что говорит о преобладающей болезнености лошадей. Распределение нормальное. Разброс данных очень большой, тк. дисперсия больше 300."
      ],
      "metadata": {
        "id": "MKSL3EVPrgbX"
      }
    },
    {
      "cell_type": "code",
      "source": [
        "q1_resp = df['respiratory rate'].quantile(0.25)\n",
        "q3_resp = df['respiratory rate'].quantile(0.75)\n",
        "iqr_resp = q3_resp - q1_resp\n",
        "lower_bound_resp = q1_resp - (1.5 * iqr_resp)\n",
        "upper_bound_resp = q3_resp + (1.5 * iqr_resp)\n",
        "print('первый квартиль - ',q1_resp)\n",
        "print('третий квартиль - ',q3_resp)\n",
        "print('межквартильный размах - ',iqr_resp)\n",
        "print('нижняя граница выбросов -', lower_bound_resp)\n",
        "print('верхняя граница выбросов - ',upper_bound_resp)\n",
        "\n",
        "remove_outliers_resp = df[df['respiratory rate'].between(lower_bound_resp, upper_bound_resp, inclusive=True)] #новый датафрейм без выбросов\n",
        "remove_outliers_resp"
      ],
      "metadata": {
        "colab": {
          "base_uri": "https://localhost:8080/",
          "height": 545
        },
        "id": "UkqEYi0y6NaQ",
        "outputId": "8a1dfb77-4333-4941-f86d-daa7c71f2966"
      },
      "execution_count": null,
      "outputs": [
        {
          "output_type": "stream",
          "name": "stdout",
          "text": [
            "первый квартиль -  18.5\n",
            "третий квартиль -  36.0\n",
            "межквартильный размах -  17.5\n",
            "нижняя граница выбросов - -7.75\n",
            "верхняя граница выбросов -  62.25\n"
          ]
        },
        {
          "output_type": "stream",
          "name": "stderr",
          "text": [
            "<ipython-input-114-f317b9ad22e4>:12: FutureWarning: Boolean inputs to the `inclusive` argument are deprecated in favour of `both` or `neither`.\n",
            "  remove_outliers_resp = df[df['respiratory rate'].between(lower_bound_resp, upper_bound_resp, inclusive=True)] #новый датафрейм без выбросов\n"
          ]
        },
        {
          "output_type": "execute_result",
          "data": {
            "text/plain": [
              "     surgery  age  rectal temperature  pulse  respiratory rate  \\\n",
              "0        2.0    1                38.5   66.0              28.0   \n",
              "1        1.0    1                39.2   88.0              20.0   \n",
              "2        2.0    1                38.3   40.0              24.0   \n",
              "4        2.0    1                37.3  104.0              35.0   \n",
              "6        1.0    1                37.9   48.0              16.0   \n",
              "..       ...  ...                 ...    ...               ...   \n",
              "294      2.0    1                38.5   40.0              16.0   \n",
              "296      2.0    1                37.2   72.0              24.0   \n",
              "297      1.0    1                37.5   72.0              30.0   \n",
              "298      1.0    1                36.5  100.0              24.0   \n",
              "299      1.0    1                37.2   40.0              20.0   \n",
              "\n",
              "     temperature of extremities  pain  outcome  \n",
              "0                           3.0   5.0      2.0  \n",
              "1                           NaN   3.0      3.0  \n",
              "2                           1.0   3.0      1.0  \n",
              "4                           NaN   NaN      2.0  \n",
              "6                           1.0   3.0      1.0  \n",
              "..                          ...   ...      ...  \n",
              "294                         1.0   2.0      1.0  \n",
              "296                         3.0   4.0      3.0  \n",
              "297                         4.0   4.0      2.0  \n",
              "298                         3.0   3.0      1.0  \n",
              "299                         NaN   NaN      3.0  \n",
              "\n",
              "[225 rows x 8 columns]"
            ],
            "text/html": [
              "\n",
              "  <div id=\"df-13e38750-d304-4b1a-8702-16d17b889d2f\" class=\"colab-df-container\">\n",
              "    <div>\n",
              "<style scoped>\n",
              "    .dataframe tbody tr th:only-of-type {\n",
              "        vertical-align: middle;\n",
              "    }\n",
              "\n",
              "    .dataframe tbody tr th {\n",
              "        vertical-align: top;\n",
              "    }\n",
              "\n",
              "    .dataframe thead th {\n",
              "        text-align: right;\n",
              "    }\n",
              "</style>\n",
              "<table border=\"1\" class=\"dataframe\">\n",
              "  <thead>\n",
              "    <tr style=\"text-align: right;\">\n",
              "      <th></th>\n",
              "      <th>surgery</th>\n",
              "      <th>age</th>\n",
              "      <th>rectal temperature</th>\n",
              "      <th>pulse</th>\n",
              "      <th>respiratory rate</th>\n",
              "      <th>temperature of extremities</th>\n",
              "      <th>pain</th>\n",
              "      <th>outcome</th>\n",
              "    </tr>\n",
              "  </thead>\n",
              "  <tbody>\n",
              "    <tr>\n",
              "      <th>0</th>\n",
              "      <td>2.0</td>\n",
              "      <td>1</td>\n",
              "      <td>38.5</td>\n",
              "      <td>66.0</td>\n",
              "      <td>28.0</td>\n",
              "      <td>3.0</td>\n",
              "      <td>5.0</td>\n",
              "      <td>2.0</td>\n",
              "    </tr>\n",
              "    <tr>\n",
              "      <th>1</th>\n",
              "      <td>1.0</td>\n",
              "      <td>1</td>\n",
              "      <td>39.2</td>\n",
              "      <td>88.0</td>\n",
              "      <td>20.0</td>\n",
              "      <td>NaN</td>\n",
              "      <td>3.0</td>\n",
              "      <td>3.0</td>\n",
              "    </tr>\n",
              "    <tr>\n",
              "      <th>2</th>\n",
              "      <td>2.0</td>\n",
              "      <td>1</td>\n",
              "      <td>38.3</td>\n",
              "      <td>40.0</td>\n",
              "      <td>24.0</td>\n",
              "      <td>1.0</td>\n",
              "      <td>3.0</td>\n",
              "      <td>1.0</td>\n",
              "    </tr>\n",
              "    <tr>\n",
              "      <th>4</th>\n",
              "      <td>2.0</td>\n",
              "      <td>1</td>\n",
              "      <td>37.3</td>\n",
              "      <td>104.0</td>\n",
              "      <td>35.0</td>\n",
              "      <td>NaN</td>\n",
              "      <td>NaN</td>\n",
              "      <td>2.0</td>\n",
              "    </tr>\n",
              "    <tr>\n",
              "      <th>6</th>\n",
              "      <td>1.0</td>\n",
              "      <td>1</td>\n",
              "      <td>37.9</td>\n",
              "      <td>48.0</td>\n",
              "      <td>16.0</td>\n",
              "      <td>1.0</td>\n",
              "      <td>3.0</td>\n",
              "      <td>1.0</td>\n",
              "    </tr>\n",
              "    <tr>\n",
              "      <th>...</th>\n",
              "      <td>...</td>\n",
              "      <td>...</td>\n",
              "      <td>...</td>\n",
              "      <td>...</td>\n",
              "      <td>...</td>\n",
              "      <td>...</td>\n",
              "      <td>...</td>\n",
              "      <td>...</td>\n",
              "    </tr>\n",
              "    <tr>\n",
              "      <th>294</th>\n",
              "      <td>2.0</td>\n",
              "      <td>1</td>\n",
              "      <td>38.5</td>\n",
              "      <td>40.0</td>\n",
              "      <td>16.0</td>\n",
              "      <td>1.0</td>\n",
              "      <td>2.0</td>\n",
              "      <td>1.0</td>\n",
              "    </tr>\n",
              "    <tr>\n",
              "      <th>296</th>\n",
              "      <td>2.0</td>\n",
              "      <td>1</td>\n",
              "      <td>37.2</td>\n",
              "      <td>72.0</td>\n",
              "      <td>24.0</td>\n",
              "      <td>3.0</td>\n",
              "      <td>4.0</td>\n",
              "      <td>3.0</td>\n",
              "    </tr>\n",
              "    <tr>\n",
              "      <th>297</th>\n",
              "      <td>1.0</td>\n",
              "      <td>1</td>\n",
              "      <td>37.5</td>\n",
              "      <td>72.0</td>\n",
              "      <td>30.0</td>\n",
              "      <td>4.0</td>\n",
              "      <td>4.0</td>\n",
              "      <td>2.0</td>\n",
              "    </tr>\n",
              "    <tr>\n",
              "      <th>298</th>\n",
              "      <td>1.0</td>\n",
              "      <td>1</td>\n",
              "      <td>36.5</td>\n",
              "      <td>100.0</td>\n",
              "      <td>24.0</td>\n",
              "      <td>3.0</td>\n",
              "      <td>3.0</td>\n",
              "      <td>1.0</td>\n",
              "    </tr>\n",
              "    <tr>\n",
              "      <th>299</th>\n",
              "      <td>1.0</td>\n",
              "      <td>1</td>\n",
              "      <td>37.2</td>\n",
              "      <td>40.0</td>\n",
              "      <td>20.0</td>\n",
              "      <td>NaN</td>\n",
              "      <td>NaN</td>\n",
              "      <td>3.0</td>\n",
              "    </tr>\n",
              "  </tbody>\n",
              "</table>\n",
              "<p>225 rows × 8 columns</p>\n",
              "</div>\n",
              "    <div class=\"colab-df-buttons\">\n",
              "\n",
              "  <div class=\"colab-df-container\">\n",
              "    <button class=\"colab-df-convert\" onclick=\"convertToInteractive('df-13e38750-d304-4b1a-8702-16d17b889d2f')\"\n",
              "            title=\"Convert this dataframe to an interactive table.\"\n",
              "            style=\"display:none;\">\n",
              "\n",
              "  <svg xmlns=\"http://www.w3.org/2000/svg\" height=\"24px\" viewBox=\"0 -960 960 960\">\n",
              "    <path d=\"M120-120v-720h720v720H120Zm60-500h600v-160H180v160Zm220 220h160v-160H400v160Zm0 220h160v-160H400v160ZM180-400h160v-160H180v160Zm440 0h160v-160H620v160ZM180-180h160v-160H180v160Zm440 0h160v-160H620v160Z\"/>\n",
              "  </svg>\n",
              "    </button>\n",
              "\n",
              "  <style>\n",
              "    .colab-df-container {\n",
              "      display:flex;\n",
              "      gap: 12px;\n",
              "    }\n",
              "\n",
              "    .colab-df-convert {\n",
              "      background-color: #E8F0FE;\n",
              "      border: none;\n",
              "      border-radius: 50%;\n",
              "      cursor: pointer;\n",
              "      display: none;\n",
              "      fill: #1967D2;\n",
              "      height: 32px;\n",
              "      padding: 0 0 0 0;\n",
              "      width: 32px;\n",
              "    }\n",
              "\n",
              "    .colab-df-convert:hover {\n",
              "      background-color: #E2EBFA;\n",
              "      box-shadow: 0px 1px 2px rgba(60, 64, 67, 0.3), 0px 1px 3px 1px rgba(60, 64, 67, 0.15);\n",
              "      fill: #174EA6;\n",
              "    }\n",
              "\n",
              "    .colab-df-buttons div {\n",
              "      margin-bottom: 4px;\n",
              "    }\n",
              "\n",
              "    [theme=dark] .colab-df-convert {\n",
              "      background-color: #3B4455;\n",
              "      fill: #D2E3FC;\n",
              "    }\n",
              "\n",
              "    [theme=dark] .colab-df-convert:hover {\n",
              "      background-color: #434B5C;\n",
              "      box-shadow: 0px 1px 3px 1px rgba(0, 0, 0, 0.15);\n",
              "      filter: drop-shadow(0px 1px 2px rgba(0, 0, 0, 0.3));\n",
              "      fill: #FFFFFF;\n",
              "    }\n",
              "  </style>\n",
              "\n",
              "    <script>\n",
              "      const buttonEl =\n",
              "        document.querySelector('#df-13e38750-d304-4b1a-8702-16d17b889d2f button.colab-df-convert');\n",
              "      buttonEl.style.display =\n",
              "        google.colab.kernel.accessAllowed ? 'block' : 'none';\n",
              "\n",
              "      async function convertToInteractive(key) {\n",
              "        const element = document.querySelector('#df-13e38750-d304-4b1a-8702-16d17b889d2f');\n",
              "        const dataTable =\n",
              "          await google.colab.kernel.invokeFunction('convertToInteractive',\n",
              "                                                    [key], {});\n",
              "        if (!dataTable) return;\n",
              "\n",
              "        const docLinkHtml = 'Like what you see? Visit the ' +\n",
              "          '<a target=\"_blank\" href=https://colab.research.google.com/notebooks/data_table.ipynb>data table notebook</a>'\n",
              "          + ' to learn more about interactive tables.';\n",
              "        element.innerHTML = '';\n",
              "        dataTable['output_type'] = 'display_data';\n",
              "        await google.colab.output.renderOutput(dataTable, element);\n",
              "        const docLink = document.createElement('div');\n",
              "        docLink.innerHTML = docLinkHtml;\n",
              "        element.appendChild(docLink);\n",
              "      }\n",
              "    </script>\n",
              "  </div>\n",
              "\n",
              "\n",
              "<div id=\"df-ba27db3a-cf1f-461e-a075-f3ed162609c6\">\n",
              "  <button class=\"colab-df-quickchart\" onclick=\"quickchart('df-ba27db3a-cf1f-461e-a075-f3ed162609c6')\"\n",
              "            title=\"Suggest charts\"\n",
              "            style=\"display:none;\">\n",
              "\n",
              "<svg xmlns=\"http://www.w3.org/2000/svg\" height=\"24px\"viewBox=\"0 0 24 24\"\n",
              "     width=\"24px\">\n",
              "    <g>\n",
              "        <path d=\"M19 3H5c-1.1 0-2 .9-2 2v14c0 1.1.9 2 2 2h14c1.1 0 2-.9 2-2V5c0-1.1-.9-2-2-2zM9 17H7v-7h2v7zm4 0h-2V7h2v10zm4 0h-2v-4h2v4z\"/>\n",
              "    </g>\n",
              "</svg>\n",
              "  </button>\n",
              "\n",
              "<style>\n",
              "  .colab-df-quickchart {\n",
              "      --bg-color: #E8F0FE;\n",
              "      --fill-color: #1967D2;\n",
              "      --hover-bg-color: #E2EBFA;\n",
              "      --hover-fill-color: #174EA6;\n",
              "      --disabled-fill-color: #AAA;\n",
              "      --disabled-bg-color: #DDD;\n",
              "  }\n",
              "\n",
              "  [theme=dark] .colab-df-quickchart {\n",
              "      --bg-color: #3B4455;\n",
              "      --fill-color: #D2E3FC;\n",
              "      --hover-bg-color: #434B5C;\n",
              "      --hover-fill-color: #FFFFFF;\n",
              "      --disabled-bg-color: #3B4455;\n",
              "      --disabled-fill-color: #666;\n",
              "  }\n",
              "\n",
              "  .colab-df-quickchart {\n",
              "    background-color: var(--bg-color);\n",
              "    border: none;\n",
              "    border-radius: 50%;\n",
              "    cursor: pointer;\n",
              "    display: none;\n",
              "    fill: var(--fill-color);\n",
              "    height: 32px;\n",
              "    padding: 0;\n",
              "    width: 32px;\n",
              "  }\n",
              "\n",
              "  .colab-df-quickchart:hover {\n",
              "    background-color: var(--hover-bg-color);\n",
              "    box-shadow: 0 1px 2px rgba(60, 64, 67, 0.3), 0 1px 3px 1px rgba(60, 64, 67, 0.15);\n",
              "    fill: var(--button-hover-fill-color);\n",
              "  }\n",
              "\n",
              "  .colab-df-quickchart-complete:disabled,\n",
              "  .colab-df-quickchart-complete:disabled:hover {\n",
              "    background-color: var(--disabled-bg-color);\n",
              "    fill: var(--disabled-fill-color);\n",
              "    box-shadow: none;\n",
              "  }\n",
              "\n",
              "  .colab-df-spinner {\n",
              "    border: 2px solid var(--fill-color);\n",
              "    border-color: transparent;\n",
              "    border-bottom-color: var(--fill-color);\n",
              "    animation:\n",
              "      spin 1s steps(1) infinite;\n",
              "  }\n",
              "\n",
              "  @keyframes spin {\n",
              "    0% {\n",
              "      border-color: transparent;\n",
              "      border-bottom-color: var(--fill-color);\n",
              "      border-left-color: var(--fill-color);\n",
              "    }\n",
              "    20% {\n",
              "      border-color: transparent;\n",
              "      border-left-color: var(--fill-color);\n",
              "      border-top-color: var(--fill-color);\n",
              "    }\n",
              "    30% {\n",
              "      border-color: transparent;\n",
              "      border-left-color: var(--fill-color);\n",
              "      border-top-color: var(--fill-color);\n",
              "      border-right-color: var(--fill-color);\n",
              "    }\n",
              "    40% {\n",
              "      border-color: transparent;\n",
              "      border-right-color: var(--fill-color);\n",
              "      border-top-color: var(--fill-color);\n",
              "    }\n",
              "    60% {\n",
              "      border-color: transparent;\n",
              "      border-right-color: var(--fill-color);\n",
              "    }\n",
              "    80% {\n",
              "      border-color: transparent;\n",
              "      border-right-color: var(--fill-color);\n",
              "      border-bottom-color: var(--fill-color);\n",
              "    }\n",
              "    90% {\n",
              "      border-color: transparent;\n",
              "      border-bottom-color: var(--fill-color);\n",
              "    }\n",
              "  }\n",
              "</style>\n",
              "\n",
              "  <script>\n",
              "    async function quickchart(key) {\n",
              "      const quickchartButtonEl =\n",
              "        document.querySelector('#' + key + ' button');\n",
              "      quickchartButtonEl.disabled = true;  // To prevent multiple clicks.\n",
              "      quickchartButtonEl.classList.add('colab-df-spinner');\n",
              "      try {\n",
              "        const charts = await google.colab.kernel.invokeFunction(\n",
              "            'suggestCharts', [key], {});\n",
              "      } catch (error) {\n",
              "        console.error('Error during call to suggestCharts:', error);\n",
              "      }\n",
              "      quickchartButtonEl.classList.remove('colab-df-spinner');\n",
              "      quickchartButtonEl.classList.add('colab-df-quickchart-complete');\n",
              "    }\n",
              "    (() => {\n",
              "      let quickchartButtonEl =\n",
              "        document.querySelector('#df-ba27db3a-cf1f-461e-a075-f3ed162609c6 button');\n",
              "      quickchartButtonEl.style.display =\n",
              "        google.colab.kernel.accessAllowed ? 'block' : 'none';\n",
              "    })();\n",
              "  </script>\n",
              "</div>\n",
              "    </div>\n",
              "  </div>\n"
            ]
          },
          "metadata": {},
          "execution_count": 114
        }
      ]
    },
    {
      "cell_type": "markdown",
      "source": [
        "Разумней убрать выбросы по нижней и верхней границе. Нижняя граница отрицательная из-за высокого разброса данных,и даже меньше минимального значения. Вырхняя граница намного выше средних значений. Скорей всего данные внесены некорректно."
      ],
      "metadata": {
        "id": "9wwegxv8thVk"
      }
    },
    {
      "cell_type": "markdown",
      "source": [
        "\n",
        "**Категориальные:**\n",
        "\n",
        "*   surgery?\n",
        "*   Age\n",
        "*   temperature of extremities\n",
        "*   pain\n",
        "*   outcome\n",
        "\n",
        "Для них можно найти моды, проанализировать распределение по категориям, проверить уникальные значения категорий на предмет ошибок и соответствия описанию данных. Помогут методы mode(), value_counts(), unique() ."
      ],
      "metadata": {
        "id": "NKpnCMQy6ZK_"
      }
    },
    {
      "cell_type": "code",
      "source": [
        "print('mode:')\n",
        "print(df['surgery'].mode()[0])\n",
        "print('--------')\n",
        "print('распределение:')\n",
        "print(df['surgery'].value_counts())\n",
        "print('--------')\n",
        "print('уникальные значения:')\n",
        "print(df['surgery'].unique())"
      ],
      "metadata": {
        "colab": {
          "base_uri": "https://localhost:8080/"
        },
        "id": "aQ0BJ1xZ6a-T",
        "outputId": "e0197bb9-2fe5-4cc5-ed77-2567ac1f3b4b"
      },
      "execution_count": null,
      "outputs": [
        {
          "output_type": "stream",
          "name": "stdout",
          "text": [
            "mode:\n",
            "1.0\n",
            "--------\n",
            "распределение:\n",
            "1.0    180\n",
            "2.0    119\n",
            "Name: surgery, dtype: int64\n",
            "--------\n",
            "уникальные значения:\n",
            "[ 2.  1. nan]\n"
          ]
        }
      ]
    },
    {
      "cell_type": "markdown",
      "source": [
        "60 % лошадей прооперированы. В столбце всего лишь одно пропущенное значение (300 - (180+119)), что говорит о полноте данных."
      ],
      "metadata": {
        "id": "SIPs0_HozUUV"
      }
    },
    {
      "cell_type": "code",
      "source": [
        "print('mode:')\n",
        "print(df['age'].mode()[0])\n",
        "print('--------')\n",
        "print('распределение:')\n",
        "print(df['age'].value_counts())\n",
        "print('--------')\n",
        "print('уникальные значения:')\n",
        "print(df['age'].unique())"
      ],
      "metadata": {
        "colab": {
          "base_uri": "https://localhost:8080/"
        },
        "id": "dfYM_wCs6ufV",
        "outputId": "81804831-b843-4422-feb7-b3e4d2f48126"
      },
      "execution_count": null,
      "outputs": [
        {
          "output_type": "stream",
          "name": "stdout",
          "text": [
            "mode:\n",
            "1\n",
            "--------\n",
            "распределение:\n",
            "1    276\n",
            "9     24\n",
            "Name: age, dtype: int64\n",
            "--------\n",
            "уникальные значения:\n",
            "[1 9]\n"
          ]
        }
      ]
    },
    {
      "cell_type": "markdown",
      "source": [
        "92 % лошадей больше 6 месяцев. В столбце нет пропущеных значений. Но в датафрейм не соответсвует описанию, т.к. есть значения только 1 и 9, а значения 9 в описании нет."
      ],
      "metadata": {
        "id": "FLqphdT90yRp"
      }
    },
    {
      "cell_type": "code",
      "source": [
        "print('mode:')\n",
        "print(df['temperature of extremities'].mode()[0])\n",
        "print('--------')\n",
        "print('распределение:')\n",
        "print(df['temperature of extremities'].value_counts())\n",
        "print('--------')\n",
        "print('уникальные значения:')\n",
        "print(df['temperature of extremities'].unique())"
      ],
      "metadata": {
        "colab": {
          "base_uri": "https://localhost:8080/"
        },
        "id": "yPVCuT5I6yWO",
        "outputId": "2b2fed4d-3230-4848-9ffa-4c9ef6f11a11"
      },
      "execution_count": null,
      "outputs": [
        {
          "output_type": "stream",
          "name": "stdout",
          "text": [
            "mode:\n",
            "3.0\n",
            "--------\n",
            "распределение:\n",
            "3.0    109\n",
            "1.0     78\n",
            "2.0     30\n",
            "4.0     27\n",
            "Name: temperature of extremities, dtype: int64\n",
            "--------\n",
            "уникальные значения:\n",
            "[ 3. nan  1.  4.  2.]\n"
          ]
        }
      ]
    },
    {
      "cell_type": "markdown",
      "source": [
        "Заполнено 244 значения. Из них:\n",
        "-  44,6 % - лошади с холодной температурой конечностей, что подтверждает и мода\n",
        "-  31,9 % - лошади с нормальной температурой конечностей\n",
        "-  12,3 % - лошади с теплой температурой конечностей\n",
        "-  11,1 % - лошади с очень холодной температурой конечностей\n",
        "\n",
        "55,7% лошадей испытывают шок, т.к. имеют холодную их температуру конечностей.\n",
        "Возможно у 31,9 % лошадей также высокая ректальная температура, т.к. она коррелирует с высокой температурой конечностей.\n",
        "\n",
        "Данные соответсвую описанию датафрейма.\n",
        "В столбце присутвуют пропущенные значения - 56 строк (18,6%), что говорит, о средней полноте данных.\n",
        "\n",
        "\n"
      ],
      "metadata": {
        "id": "prKSYJ791Od9"
      }
    },
    {
      "cell_type": "code",
      "source": [
        "print('mode:')\n",
        "print(df['pain'].mode()[0])\n",
        "print('--------')\n",
        "print('распределение:')\n",
        "print(df['pain'].value_counts())\n",
        "print('--------')\n",
        "print('уникальные значения:')\n",
        "print(df['pain'].unique())"
      ],
      "metadata": {
        "colab": {
          "base_uri": "https://localhost:8080/"
        },
        "id": "IqXj4eD063vO",
        "outputId": "e9c91d81-d9c8-4911-f20f-da499bc58734"
      },
      "execution_count": null,
      "outputs": [
        {
          "output_type": "stream",
          "name": "stdout",
          "text": [
            "mode:\n",
            "3.0\n",
            "--------\n",
            "распределение:\n",
            "3.0    67\n",
            "2.0    59\n",
            "5.0    42\n",
            "4.0    39\n",
            "1.0    38\n",
            "Name: pain, dtype: int64\n",
            "--------\n",
            "уникальные значения:\n",
            "[ 5.  3.  2. nan  4.  1.]\n"
          ]
        }
      ]
    },
    {
      "cell_type": "markdown",
      "source": [
        "Заполнено 245 значений:\n",
        "- 27,3 % лошадей испытывают периодическую легкую боль\n",
        "- 24 % - в депресии\n",
        "- 17,2 % - постоянную сильную боль\n",
        "- 15,9 % - периодическую сильную боль\n",
        "- 15,5 % - тревожность без боли\n",
        "\n",
        "Как видно, данные распределены вполне равномерны, сильных разлий нет, к примеру, 80 % - лошадей имеют сильную боль, 20% - периодическую.\n",
        "\n",
        "Возможно 15,5% лошадей потребуется операция.\n",
        "\n",
        "Данные соответсвую описанию датафрейма.\n",
        "В столбце присутвуют пропущенные значения - 55 строк (18,3%), что говорит, о средней полноте данных.\n",
        "\n",
        "\n",
        "\n",
        "\n"
      ],
      "metadata": {
        "id": "lnM6CQOY598G"
      }
    },
    {
      "cell_type": "code",
      "source": [
        "print('mode:')\n",
        "print(df['outcome'].mode()[0])\n",
        "print('--------')\n",
        "print('распределение:')\n",
        "print(df['outcome'].value_counts())\n",
        "print('--------')\n",
        "print('уникальные значения:')\n",
        "print(df['outcome'].unique())"
      ],
      "metadata": {
        "colab": {
          "base_uri": "https://localhost:8080/"
        },
        "id": "aaxgE52p67c3",
        "outputId": "a7c010e0-6017-47d7-dbba-197105cf70ee"
      },
      "execution_count": null,
      "outputs": [
        {
          "output_type": "stream",
          "name": "stdout",
          "text": [
            "mode:\n",
            "1.0\n",
            "--------\n",
            "распределение:\n",
            "1.0    178\n",
            "2.0     77\n",
            "3.0     44\n",
            "Name: outcome, dtype: int64\n",
            "--------\n",
            "уникальные значения:\n",
            "[ 2.  3.  1. nan]\n"
          ]
        }
      ]
    },
    {
      "cell_type": "markdown",
      "source": [
        "Заполнено 299 значения. Пропущено только 1. Данные вполне полные.\n",
        "\n",
        "59,5 % лошадей - живы\n",
        "25,7 % - умерли\n",
        "14,7 % - подвергнуты эвтаназии\n",
        "\n",
        "Чуть больше половины лошадей живы.\n",
        "\n",
        "\n"
      ],
      "metadata": {
        "id": "6-JdbSp_8D3Y"
      }
    },
    {
      "cell_type": "code",
      "source": [
        "df.info()"
      ],
      "metadata": {
        "colab": {
          "base_uri": "https://localhost:8080/"
        },
        "id": "9OGBmSPx8Ub2",
        "outputId": "8d47103a-82bd-4f30-9ae8-a5c03892d4aa"
      },
      "execution_count": null,
      "outputs": [
        {
          "output_type": "stream",
          "name": "stdout",
          "text": [
            "<class 'pandas.core.frame.DataFrame'>\n",
            "RangeIndex: 300 entries, 0 to 299\n",
            "Data columns (total 8 columns):\n",
            " #   Column                      Non-Null Count  Dtype  \n",
            "---  ------                      --------------  -----  \n",
            " 0   surgery                     299 non-null    float64\n",
            " 1   age                         300 non-null    int64  \n",
            " 2   rectal temperature          240 non-null    float64\n",
            " 3   pulse                       276 non-null    float64\n",
            " 4   respiratory rate            242 non-null    float64\n",
            " 5   temperature of extremities  244 non-null    float64\n",
            " 6   pain                        245 non-null    float64\n",
            " 7   outcome                     299 non-null    float64\n",
            "dtypes: float64(7), int64(1)\n",
            "memory usage: 18.9 KB\n"
          ]
        }
      ]
    },
    {
      "cell_type": "markdown",
      "source": [
        "**ПРОПУСКИ**"
      ],
      "metadata": {
        "id": "L7daGRkV0d0G"
      }
    },
    {
      "cell_type": "markdown",
      "source": [
        "**категориальные**\n",
        "- surgery?,\n",
        "- Age,\n",
        "- temperature of extremities,\n",
        "- pain,\n",
        "- outcome\n",
        "\n",
        "замена модой"
      ],
      "metadata": {
        "id": "qOakob7IfCx1"
      }
    },
    {
      "cell_type": "markdown",
      "source": [
        "**Количественные (непрерывные):**\n",
        "- rectal temperature\n",
        "- pulse\n",
        "- respiratory rate\n",
        "\n",
        "\n",
        ">\n",
        ">\n",
        "\n",
        "\n",
        "\n",
        "- !Замена медианой, если есть выбросы\n",
        "\n",
        "\n",
        "- !Замена средней, если выбросов - нет"
      ],
      "metadata": {
        "id": "qIA92j49gRCP"
      }
    },
    {
      "cell_type": "markdown",
      "source": [
        "В датафрейме пропущено около 30% значений, довольно большая часть, поэтому удалять пропущенные значения лучше не стоит.\n",
        "Поэтому заменим пропуски на основе других признаков, применяя группировку.\n",
        "Для категориальных переменных - через моду и группировку. Для количественных через медиану и среднюю.\n",
        "\n",
        "\n"
      ],
      "metadata": {
        "id": "k1ktTKh_hZGJ"
      }
    },
    {
      "cell_type": "code",
      "source": [
        "df.isnull().sum()"
      ],
      "metadata": {
        "colab": {
          "base_uri": "https://localhost:8080/"
        },
        "id": "sbhz3WG_kxjM",
        "outputId": "ea56d026-fa68-4e69-8db3-a12fd2ca8e6c"
      },
      "execution_count": null,
      "outputs": [
        {
          "output_type": "execute_result",
          "data": {
            "text/plain": [
              "surgery                        1\n",
              "age                            0\n",
              "rectal temperature            60\n",
              "pulse                         24\n",
              "respiratory rate              58\n",
              "temperature of extremities    56\n",
              "pain                          55\n",
              "outcome                        1\n",
              "dtype: int64"
            ]
          },
          "metadata": {},
          "execution_count": 121
        }
      ]
    },
    {
      "cell_type": "code",
      "source": [
        "df_new = df.copy()"
      ],
      "metadata": {
        "id": "cdzG-ELY_P8x"
      },
      "execution_count": null,
      "outputs": []
    },
    {
      "cell_type": "code",
      "source": [
        "# заменим модой пропуски в столбце surgery через группировку по возрасту. То есть подвергалась ли лошадь операции зависит от возраста.\n",
        "\n",
        "print(df['surgery'].value_counts())\n",
        "\n",
        "df_new['surgery'] = df['surgery'].fillna(df.groupby('age')['surgery'].transform(lambda x: x.mode()[0]))\n",
        "df_new.info()"
      ],
      "metadata": {
        "colab": {
          "base_uri": "https://localhost:8080/"
        },
        "id": "aSY-t8Fi1X88",
        "outputId": "a42fee08-3cf2-4b6a-8ded-7df1c8fc6d97"
      },
      "execution_count": null,
      "outputs": [
        {
          "output_type": "stream",
          "name": "stdout",
          "text": [
            "1.0    180\n",
            "2.0    119\n",
            "Name: surgery, dtype: int64\n",
            "<class 'pandas.core.frame.DataFrame'>\n",
            "RangeIndex: 300 entries, 0 to 299\n",
            "Data columns (total 8 columns):\n",
            " #   Column                      Non-Null Count  Dtype  \n",
            "---  ------                      --------------  -----  \n",
            " 0   surgery                     300 non-null    float64\n",
            " 1   age                         300 non-null    int64  \n",
            " 2   rectal temperature          240 non-null    float64\n",
            " 3   pulse                       276 non-null    float64\n",
            " 4   respiratory rate            242 non-null    float64\n",
            " 5   temperature of extremities  300 non-null    float64\n",
            " 6   pain                        265 non-null    float64\n",
            " 7   outcome                     299 non-null    float64\n",
            "dtypes: float64(7), int64(1)\n",
            "memory usage: 18.9 KB\n"
          ]
        }
      ]
    },
    {
      "cell_type": "code",
      "source": [
        "# добавление пропущеного значение не особо повлияло на статистику данных, т.к. заменено только 1 значение.\n",
        "print('mode:')\n",
        "print(df['surgery'].mode()[0])\n",
        "print('--------')\n",
        "print('распределение:')\n",
        "print(df['surgery'].value_counts())\n",
        "print('--------')\n",
        "print('уникальные значения:')\n",
        "print(df['surgery'].unique())\n",
        "print('------------------------')\n",
        "print('mode:')\n",
        "print(df_new['surgery'].mode()[0])\n",
        "print('--------')\n",
        "print('распределение:')\n",
        "print(df_new['surgery'].value_counts())\n",
        "print('--------')\n",
        "print('уникальные значения:')\n",
        "print(df_new['surgery'].unique())"
      ],
      "metadata": {
        "colab": {
          "base_uri": "https://localhost:8080/"
        },
        "id": "DLRxROwLIuDe",
        "outputId": "a9846f41-198f-466d-c5dd-f65885ab4f23"
      },
      "execution_count": null,
      "outputs": [
        {
          "output_type": "stream",
          "name": "stdout",
          "text": [
            "mode:\n",
            "1.0\n",
            "--------\n",
            "распределение:\n",
            "1.0    180\n",
            "2.0    119\n",
            "Name: surgery, dtype: int64\n",
            "--------\n",
            "уникальные значения:\n",
            "[ 2.  1. nan]\n",
            "------------------------\n",
            "mode:\n",
            "1.0\n",
            "--------\n",
            "распределение:\n",
            "1.0    181\n",
            "2.0    119\n",
            "Name: surgery, dtype: int64\n",
            "--------\n",
            "уникальные значения:\n",
            "[2. 1.]\n"
          ]
        }
      ]
    },
    {
      "cell_type": "code",
      "source": [
        "# температура конечностей зависит от операции\n",
        "\n",
        "print(df['temperature of extremities'].value_counts())\n",
        "\n",
        "df_new['temperature of extremities'] = df['temperature of extremities'].fillna(df.groupby('surgery')['temperature of extremities'].transform(lambda x: x.mode()[0]))\n",
        "df_new.info()"
      ],
      "metadata": {
        "colab": {
          "base_uri": "https://localhost:8080/"
        },
        "id": "XU8IY0fL_pXr",
        "outputId": "8385d951-3ff9-4a96-98aa-c3da857214fd"
      },
      "execution_count": null,
      "outputs": [
        {
          "output_type": "stream",
          "name": "stdout",
          "text": [
            "3.0    109\n",
            "1.0     78\n",
            "2.0     30\n",
            "4.0     27\n",
            "Name: temperature of extremities, dtype: int64\n",
            "<class 'pandas.core.frame.DataFrame'>\n",
            "RangeIndex: 300 entries, 0 to 299\n",
            "Data columns (total 8 columns):\n",
            " #   Column                      Non-Null Count  Dtype  \n",
            "---  ------                      --------------  -----  \n",
            " 0   surgery                     300 non-null    float64\n",
            " 1   age                         300 non-null    int64  \n",
            " 2   rectal temperature          240 non-null    float64\n",
            " 3   pulse                       276 non-null    float64\n",
            " 4   respiratory rate            242 non-null    float64\n",
            " 5   temperature of extremities  300 non-null    float64\n",
            " 6   pain                        300 non-null    float64\n",
            " 7   outcome                     300 non-null    float64\n",
            "dtypes: float64(7), int64(1)\n",
            "memory usage: 18.9 KB\n"
          ]
        }
      ]
    },
    {
      "cell_type": "code",
      "source": [
        "# после замены пропусков изменилось распределение в сторону моды.\n",
        "print('mode:')\n",
        "print(df['temperature of extremities'].mode()[0])\n",
        "print('--------')\n",
        "print('распределение:')\n",
        "print(df['temperature of extremities'].value_counts())\n",
        "print('--------')\n",
        "print('уникальные значения:')\n",
        "print(df['temperature of extremities'].unique())\n",
        "print('------------------------')\n",
        "print('mode:')\n",
        "print(df_new['temperature of extremities'].mode()[0])\n",
        "print('--------')\n",
        "print('распределение:')\n",
        "print(df_new['temperature of extremities'].value_counts())\n",
        "print('--------')\n",
        "print('уникальные значения:')\n",
        "print(df_new['temperature of extremities'].unique())"
      ],
      "metadata": {
        "colab": {
          "base_uri": "https://localhost:8080/"
        },
        "id": "wewuv3woJHPF",
        "outputId": "6aab6ea5-8992-49d9-9ef2-ea1f2b5c15b4"
      },
      "execution_count": null,
      "outputs": [
        {
          "output_type": "stream",
          "name": "stdout",
          "text": [
            "mode:\n",
            "3.0\n",
            "--------\n",
            "распределение:\n",
            "3.0    109\n",
            "1.0     78\n",
            "2.0     30\n",
            "4.0     27\n",
            "Name: temperature of extremities, dtype: int64\n",
            "--------\n",
            "уникальные значения:\n",
            "[ 3. nan  1.  4.  2.]\n",
            "------------------------\n",
            "mode:\n",
            "3.0\n",
            "--------\n",
            "распределение:\n",
            "3.0    165\n",
            "1.0     78\n",
            "2.0     30\n",
            "4.0     27\n",
            "Name: temperature of extremities, dtype: int64\n",
            "--------\n",
            "уникальные значения:\n",
            "[3. 1. 4. 2.]\n"
          ]
        }
      ]
    },
    {
      "cell_type": "code",
      "source": [
        "# уровень боли зависит от операции\n",
        "\n",
        "print(df['pain'].value_counts())\n",
        "\n",
        "df_new['pain'] = df['pain'].fillna(df.groupby('surgery')['pain'].transform(lambda x: x.mode()[0]))\n",
        "df_new.info()"
      ],
      "metadata": {
        "colab": {
          "base_uri": "https://localhost:8080/"
        },
        "id": "PL60ySsdClV5",
        "outputId": "07f11b3c-09a2-4258-cee9-8e57718865c0"
      },
      "execution_count": null,
      "outputs": [
        {
          "output_type": "stream",
          "name": "stdout",
          "text": [
            "3.0    67\n",
            "2.0    59\n",
            "5.0    42\n",
            "4.0    39\n",
            "1.0    38\n",
            "Name: pain, dtype: int64\n",
            "<class 'pandas.core.frame.DataFrame'>\n",
            "RangeIndex: 300 entries, 0 to 299\n",
            "Data columns (total 8 columns):\n",
            " #   Column                      Non-Null Count  Dtype  \n",
            "---  ------                      --------------  -----  \n",
            " 0   surgery                     300 non-null    float64\n",
            " 1   age                         300 non-null    int64  \n",
            " 2   rectal temperature          240 non-null    float64\n",
            " 3   pulse                       276 non-null    float64\n",
            " 4   respiratory rate            242 non-null    float64\n",
            " 5   temperature of extremities  300 non-null    float64\n",
            " 6   pain                        300 non-null    float64\n",
            " 7   outcome                     300 non-null    float64\n",
            "dtypes: float64(7), int64(1)\n",
            "memory usage: 18.9 KB\n"
          ]
        }
      ]
    },
    {
      "cell_type": "code",
      "source": [
        "# после замены пропусков изменилось распределение в сторону моды.\n",
        "print('mode:')\n",
        "print(df['pain'].mode()[0])\n",
        "print('--------')\n",
        "print('распределение:')\n",
        "print(df['pain'].value_counts())\n",
        "print('--------')\n",
        "print('уникальные значения:')\n",
        "print(df['pain'].unique())\n",
        "print('------------------------')\n",
        "print('mode:')\n",
        "print(df_new['pain'].mode()[0])\n",
        "print('--------')\n",
        "print('распределение:')\n",
        "print(df_new['pain'].value_counts())\n",
        "print('--------')\n",
        "print('уникальные значения:')\n",
        "print(df_new['pain'].unique())"
      ],
      "metadata": {
        "colab": {
          "base_uri": "https://localhost:8080/"
        },
        "id": "bzcJQ6wbJWWU",
        "outputId": "c8d80f90-dc98-485f-c29f-5f1761af91f1"
      },
      "execution_count": null,
      "outputs": [
        {
          "output_type": "stream",
          "name": "stdout",
          "text": [
            "mode:\n",
            "3.0\n",
            "--------\n",
            "распределение:\n",
            "3.0    67\n",
            "2.0    59\n",
            "5.0    42\n",
            "4.0    39\n",
            "1.0    38\n",
            "Name: pain, dtype: int64\n",
            "--------\n",
            "уникальные значения:\n",
            "[ 5.  3.  2. nan  4.  1.]\n",
            "------------------------\n",
            "mode:\n",
            "3.0\n",
            "--------\n",
            "распределение:\n",
            "3.0    104\n",
            "2.0     59\n",
            "1.0     56\n",
            "5.0     42\n",
            "4.0     39\n",
            "Name: pain, dtype: int64\n",
            "--------\n",
            "уникальные значения:\n",
            "[5. 3. 2. 1. 4.]\n"
          ]
        }
      ]
    },
    {
      "cell_type": "code",
      "source": [
        "# заменим пропуски в столбце outcome через моду по группировке age\n",
        "\n",
        "print(df['outcome'].value_counts())\n",
        "\n",
        "df_new['outcome'] = df['outcome'].fillna(df.groupby('age')['outcome'].transform(lambda x: x.mode()[0]))\n",
        "df_new.info()"
      ],
      "metadata": {
        "colab": {
          "base_uri": "https://localhost:8080/"
        },
        "id": "o__7uh8dBE0E",
        "outputId": "2fded0d5-2e9c-4534-bf87-b273820d1da0"
      },
      "execution_count": null,
      "outputs": [
        {
          "output_type": "stream",
          "name": "stdout",
          "text": [
            "1.0    178\n",
            "2.0     77\n",
            "3.0     44\n",
            "Name: outcome, dtype: int64\n",
            "<class 'pandas.core.frame.DataFrame'>\n",
            "RangeIndex: 300 entries, 0 to 299\n",
            "Data columns (total 8 columns):\n",
            " #   Column                      Non-Null Count  Dtype  \n",
            "---  ------                      --------------  -----  \n",
            " 0   surgery                     300 non-null    float64\n",
            " 1   age                         300 non-null    int64  \n",
            " 2   rectal temperature          300 non-null    float64\n",
            " 3   pulse                       300 non-null    float64\n",
            " 4   respiratory rate            300 non-null    float64\n",
            " 5   temperature of extremities  300 non-null    float64\n",
            " 6   pain                        300 non-null    float64\n",
            " 7   outcome                     300 non-null    float64\n",
            "dtypes: float64(7), int64(1)\n",
            "memory usage: 18.9 KB\n"
          ]
        }
      ]
    },
    {
      "cell_type": "code",
      "source": [
        "# после замены пропусков изменилось распределение в сторону моды.\n",
        "print('mode:')\n",
        "print(df['outcome'].mode()[0])\n",
        "print('--------')\n",
        "print('распределение:')\n",
        "print(df['outcome'].value_counts())\n",
        "print('--------')\n",
        "print('уникальные значения:')\n",
        "print(df['outcome'].unique())\n",
        "print('------------------------')\n",
        "print('mode:')\n",
        "print(df_new['outcome'].mode()[0])\n",
        "print('--------')\n",
        "print('распределение:')\n",
        "print(df_new['outcome'].value_counts())\n",
        "print('--------')\n",
        "print('уникальные значения:')\n",
        "print(df_new['outcome'].unique())"
      ],
      "metadata": {
        "colab": {
          "base_uri": "https://localhost:8080/"
        },
        "id": "egIR6NzsJfTK",
        "outputId": "f2dedbd5-82e1-47e3-9a5a-123db623de5b"
      },
      "execution_count": null,
      "outputs": [
        {
          "output_type": "stream",
          "name": "stdout",
          "text": [
            "mode:\n",
            "1.0\n",
            "--------\n",
            "распределение:\n",
            "1.0    178\n",
            "2.0     77\n",
            "3.0     44\n",
            "Name: outcome, dtype: int64\n",
            "--------\n",
            "уникальные значения:\n",
            "[ 2.  3.  1. nan]\n",
            "------------------------\n",
            "mode:\n",
            "1.0\n",
            "--------\n",
            "распределение:\n",
            "1.0    179\n",
            "2.0     77\n",
            "3.0     44\n",
            "Name: outcome, dtype: int64\n",
            "--------\n",
            "уникальные значения:\n",
            "[2. 3. 1.]\n"
          ]
        }
      ]
    },
    {
      "cell_type": "code",
      "source": [
        "# Так как существенных выбросов при анализе в столбце rectal temperature не было, то заменим пропуски среднем\n",
        "\n",
        "df_new['rectal temperature'] = df['rectal temperature'].fillna(df['rectal temperature'].mean())\n",
        "df_new.info()"
      ],
      "metadata": {
        "colab": {
          "base_uri": "https://localhost:8080/"
        },
        "id": "hm7VgA32Dnqe",
        "outputId": "2eda7a1f-3567-4fdc-858c-14d7555eafcb"
      },
      "execution_count": null,
      "outputs": [
        {
          "output_type": "stream",
          "name": "stdout",
          "text": [
            "<class 'pandas.core.frame.DataFrame'>\n",
            "RangeIndex: 300 entries, 0 to 299\n",
            "Data columns (total 8 columns):\n",
            " #   Column                      Non-Null Count  Dtype  \n",
            "---  ------                      --------------  -----  \n",
            " 0   surgery                     300 non-null    float64\n",
            " 1   age                         300 non-null    int64  \n",
            " 2   rectal temperature          300 non-null    float64\n",
            " 3   pulse                       300 non-null    float64\n",
            " 4   respiratory rate            300 non-null    float64\n",
            " 5   temperature of extremities  300 non-null    float64\n",
            " 6   pain                        300 non-null    float64\n",
            " 7   outcome                     300 non-null    float64\n",
            "dtypes: float64(7), int64(1)\n",
            "memory usage: 18.9 KB\n"
          ]
        }
      ]
    },
    {
      "cell_type": "code",
      "source": [
        "# Как видно из сравнения статистки после замены пропусков данные изменились несильно.\n",
        "print(df['rectal temperature'].describe())\n",
        "print('-----------------------------------')\n",
        "print(df_new['rectal temperature'].describe())"
      ],
      "metadata": {
        "colab": {
          "base_uri": "https://localhost:8080/"
        },
        "id": "bhRHbq5cHNa3",
        "outputId": "92ac1b2b-71ca-4dc3-b624-bae58f394717"
      },
      "execution_count": null,
      "outputs": [
        {
          "output_type": "stream",
          "name": "stdout",
          "text": [
            "count    240.000000\n",
            "mean      38.167917\n",
            "std        0.732289\n",
            "min       35.400000\n",
            "25%       37.800000\n",
            "50%       38.200000\n",
            "75%       38.500000\n",
            "max       40.800000\n",
            "Name: rectal temperature, dtype: float64\n",
            "-----------------------------------\n",
            "count    300.000000\n",
            "mean      38.167917\n",
            "std        0.654705\n",
            "min       35.400000\n",
            "25%       37.900000\n",
            "50%       38.167917\n",
            "75%       38.500000\n",
            "max       40.800000\n",
            "Name: rectal temperature, dtype: float64\n"
          ]
        }
      ]
    },
    {
      "cell_type": "code",
      "source": [
        "# заменим пропуски в столбце pulse через медиану по группировке surgery\n",
        "print(df.groupby('surgery')['pulse'].median())\n",
        "df_new['pulse'] = df['pulse'].fillna(df.groupby('surgery')['pulse'].transform('median'))\n",
        "df_new.info()"
      ],
      "metadata": {
        "colab": {
          "base_uri": "https://localhost:8080/"
        },
        "id": "KQq_EoZcFcfG",
        "outputId": "8af7cdea-bca6-4bf7-f836-539f39166669"
      },
      "execution_count": null,
      "outputs": [
        {
          "output_type": "stream",
          "name": "stdout",
          "text": [
            "surgery\n",
            "1.0    70.0\n",
            "2.0    56.0\n",
            "Name: pulse, dtype: float64\n",
            "<class 'pandas.core.frame.DataFrame'>\n",
            "RangeIndex: 300 entries, 0 to 299\n",
            "Data columns (total 8 columns):\n",
            " #   Column                      Non-Null Count  Dtype  \n",
            "---  ------                      --------------  -----  \n",
            " 0   surgery                     300 non-null    float64\n",
            " 1   age                         300 non-null    int64  \n",
            " 2   rectal temperature          300 non-null    float64\n",
            " 3   pulse                       300 non-null    float64\n",
            " 4   respiratory rate            242 non-null    float64\n",
            " 5   temperature of extremities  300 non-null    float64\n",
            " 6   pain                        300 non-null    float64\n",
            " 7   outcome                     299 non-null    float64\n",
            "dtypes: float64(7), int64(1)\n",
            "memory usage: 18.9 KB\n"
          ]
        }
      ]
    },
    {
      "cell_type": "code",
      "source": [
        "# Как видно из сравнения статистки после замены пропусков данные изменились несильно.\n",
        "print(df['pulse'].describe())\n",
        "print('-----------------------------------')\n",
        "print(df_new['pulse'].describe())"
      ],
      "metadata": {
        "colab": {
          "base_uri": "https://localhost:8080/"
        },
        "id": "YSuwjAbVHt4_",
        "outputId": "a220c7af-b69a-4258-9f3b-ab6ab0418d62"
      },
      "execution_count": null,
      "outputs": [
        {
          "output_type": "stream",
          "name": "stdout",
          "text": [
            "count    276.000000\n",
            "mean      71.913043\n",
            "std       28.630557\n",
            "min       30.000000\n",
            "25%       48.000000\n",
            "50%       64.000000\n",
            "75%       88.000000\n",
            "max      184.000000\n",
            "Name: pulse, dtype: float64\n",
            "-----------------------------------\n",
            "count    300.000000\n",
            "mean      71.386667\n",
            "std       27.579083\n",
            "min       30.000000\n",
            "25%       48.000000\n",
            "50%       64.500000\n",
            "75%       88.000000\n",
            "max      184.000000\n",
            "Name: pulse, dtype: float64\n"
          ]
        }
      ]
    },
    {
      "cell_type": "code",
      "source": [
        "# заменим пропуски в столбце respiratory rate через медиану по группировке surgery\n",
        "print(df.groupby('surgery')['respiratory rate'].median())\n",
        "df_new['respiratory rate'] = df['respiratory rate'].fillna(df.groupby('surgery')['respiratory rate'].transform('median'))\n",
        "df_new.info()"
      ],
      "metadata": {
        "colab": {
          "base_uri": "https://localhost:8080/"
        },
        "id": "WYEN5aZNFtw_",
        "outputId": "2ae701eb-7eed-4aaf-e8fa-96edaa153886"
      },
      "execution_count": null,
      "outputs": [
        {
          "output_type": "stream",
          "name": "stdout",
          "text": [
            "surgery\n",
            "1.0    28.0\n",
            "2.0    24.0\n",
            "Name: respiratory rate, dtype: float64\n",
            "<class 'pandas.core.frame.DataFrame'>\n",
            "RangeIndex: 300 entries, 0 to 299\n",
            "Data columns (total 8 columns):\n",
            " #   Column                      Non-Null Count  Dtype  \n",
            "---  ------                      --------------  -----  \n",
            " 0   surgery                     300 non-null    float64\n",
            " 1   age                         300 non-null    int64  \n",
            " 2   rectal temperature          300 non-null    float64\n",
            " 3   pulse                       300 non-null    float64\n",
            " 4   respiratory rate            300 non-null    float64\n",
            " 5   temperature of extremities  300 non-null    float64\n",
            " 6   pain                        300 non-null    float64\n",
            " 7   outcome                     299 non-null    float64\n",
            "dtypes: float64(7), int64(1)\n",
            "memory usage: 18.9 KB\n"
          ]
        }
      ]
    },
    {
      "cell_type": "code",
      "source": [
        "# В сравнение видно, что уменьшилось стандартное отклонение, т.е. размах стал меньше, уменьшилось среднее, а также распределение по квартилям стало выше.\n",
        "print(df['respiratory rate'].describe())\n",
        "print('-----------------------------------')\n",
        "print(df_new['respiratory rate'].describe())"
      ],
      "metadata": {
        "colab": {
          "base_uri": "https://localhost:8080/"
        },
        "id": "pzKNN9DAH4PM",
        "outputId": "a7bf4daf-9fd7-4bec-b2d9-bb183bc4eb13"
      },
      "execution_count": null,
      "outputs": [
        {
          "output_type": "stream",
          "name": "stdout",
          "text": [
            "count    242.000000\n",
            "mean      30.417355\n",
            "std       17.642231\n",
            "min        8.000000\n",
            "25%       18.500000\n",
            "50%       24.500000\n",
            "75%       36.000000\n",
            "max       96.000000\n",
            "Name: respiratory rate, dtype: float64\n",
            "-----------------------------------\n",
            "count    300.000000\n",
            "mean      29.656667\n",
            "std       15.938179\n",
            "min        8.000000\n",
            "25%       20.000000\n",
            "50%       28.000000\n",
            "75%       34.250000\n",
            "max       96.000000\n",
            "Name: respiratory rate, dtype: float64\n"
          ]
        }
      ]
    }
  ]
}